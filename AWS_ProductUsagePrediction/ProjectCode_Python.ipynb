{
 "cells": [
  {
   "cell_type": "markdown",
   "metadata": {},
   "source": [
    "# AWS Cost Management Adoption\n",
    "## Predictive modelling and customer behavior\n",
    "\n",
    "#### *Mark Russeff, Han Li, Andrea Hellebust, Hannah Khuong, Ying Xue, Keith Castelino*"
   ]
  },
  {
   "cell_type": "code",
   "execution_count": 1,
   "metadata": {},
   "outputs": [],
   "source": [
    "# Load needed packages\n",
    "import pandas as pd\n",
    "import numpy as np\n",
    "import matplotlib.pyplot as plt\n",
    "from imblearn.over_sampling import SMOTE\n",
    "from sklearn import preprocessing\n",
    "from sklearn.preprocessing import StandardScaler\n",
    "from sklearn.preprocessing import MultiLabelBinarizer\n",
    "from sklearn.cluster import KMeans\n",
    "from sklearn.neural_network import MLPClassifier \n",
    "from sklearn.ensemble import RandomForestClassifier\n",
    "from sklearn import metrics\n",
    "from sklearn.metrics import confusion_matrix\n",
    "from sklearn.utils.multiclass import unique_labels\n",
    "from sklearn import tree\n",
    "from sklearn.tree import export_graphviz\n",
    "from sklearn.decomposition import PCA \n",
    "from sklearn.metrics import accuracy_score, f1_score, precision_score, recall_score, classification_report, confusion_matrix"
   ]
  },
  {
   "cell_type": "code",
   "execution_count": 2,
   "metadata": {},
   "outputs": [],
   "source": [
    "# Load files\n",
    "adoption = pd.read_csv(\"adoption_final.csv\")\n",
    "april_billing = pd.read_csv(\"april_billing_final.csv\")\n",
    "may_billing = pd.read_csv(\"may_billing_final.csv\")\n",
    "june_billing = pd.read_csv(\"june_billing_final.csv\")"
   ]
  },
  {
   "cell_type": "markdown",
   "metadata": {},
   "source": [
    "## Data Preprocessing\n",
    "\n",
    "### Dropping NA's and functions in order to clean and organize data for modelling."
   ]
  },
  {
   "cell_type": "code",
   "execution_count": 3,
   "metadata": {},
   "outputs": [],
   "source": [
    "# Drop NA\n",
    "adoption = adoption.dropna()\n",
    "april_billing = april_billing.dropna()\n",
    "may_billing = may_billing.dropna()\n",
    "june_billing = june_billing.dropna()"
   ]
  },
  {
   "cell_type": "code",
   "execution_count": 4,
   "metadata": {},
   "outputs": [],
   "source": [
    "# Function for cleaning and aggregating the billing data\n",
    "def clean(billing_file):\n",
    "    \n",
    "    # Generate the count of product_id and total expenditure for each user in April\n",
    "    number_of_product_per_user = billing_file[[\"Customer_ID\", \"product_id\"]].groupby(\"Customer_ID\").count()\n",
    "    total_expenditure_per_user = billing_file[[\"Customer_ID\", \"Billed_amount\"]].groupby(\"Customer_ID\").sum()\n",
    "    total_expenditure_per_user = total_expenditure_per_user.astype('int')\n",
    "    \n",
    "    # Convert date from str to date time\n",
    "    billing_file['Registration_date'] = pd.to_datetime(billing_file['Registration_date'])\n",
    "    billing_file['Billing_month'] = pd.to_datetime(billing_file['Billing_month'])\n",
    "\n",
    "    # Drop product_id and Billed_amount and remove duplicates\n",
    "    billing_file = billing_file[['Billing_month', \"Customer_ID\", \"Registration_date\"]]\n",
    "    billing_file = billing_file.drop_duplicates()\n",
    "    \n",
    "    # Calculate user age\n",
    "    billing_file['User_age'] = billing_file['Billing_month'] - billing_file['Registration_date']\n",
    "    \n",
    "    # Convert user age to month and int type\n",
    "    billing_file['User_age'] = billing_file['User_age'].dt.days\n",
    "    billing_file['User_age'] = round(billing_file['User_age'] / 365, 2).astype('float')\n",
    "\n",
    "    # Join counts of product_id and total expenditure\n",
    "    billing_file = pd.merge(billing_file, number_of_product_per_user, on = 'Customer_ID', how = 'inner')\n",
    "    billing_file = pd.merge(billing_file, total_expenditure_per_user, on = 'Customer_ID', how = 'inner')\n",
    "\n",
    "    return billing_file.drop(['Billing_month', 'Registration_date'], axis = 1)"
   ]
  },
  {
   "cell_type": "code",
   "execution_count": 5,
   "metadata": {},
   "outputs": [],
   "source": [
    "# Function for organizing and transposing the billing data for clustering.\n",
    "# The individual distribution of customer spend is calculated and used as the main component of the cluster.\n",
    "def product(billing_file):\n",
    "    \n",
    "    billing_file = billing_file[billing_file['Billed_amount'] >= 0]\n",
    "    \n",
    "    # Generate the percentage of expenditures for each product.\n",
    "    total_expenditure_per_user = billing_file[[\"Customer_ID\", \"Billed_amount\"]].groupby(\"Customer_ID\").sum()\n",
    "    billing_file = pd.merge(billing_file, total_expenditure_per_user, on = 'Customer_ID', how = 'inner')\n",
    "    billing_file['total_expenditure_distribution'] = billing_file['Billed_amount_x'] / billing_file['Billed_amount_y'] * 100\n",
    "    \n",
    "    # Cut down the data set.\n",
    "    billing_file = billing_file[['Customer_ID', 'product_id', 'total_expenditure_distribution']]\n",
    "    \n",
    "    # Transpose the data set for clustering.\n",
    "    billing_file = billing_file.pivot(index= 'Customer_ID', columns='product_id', values='total_expenditure_distribution')\n",
    "    \n",
    "    # Replace NAN values with 0.\n",
    "    billing_file = billing_file.fillna(0)\n",
    "    \n",
    "    return billing_file"
   ]
  },
  {
   "cell_type": "code",
   "execution_count": 6,
   "metadata": {},
   "outputs": [],
   "source": [
    "# Function to standardize the data to normal distribution\n",
    "def scale_product(product_file):\n",
    "    \n",
    "    #Get column names first\n",
    "    names = product_file.columns\n",
    "\n",
    "    #Create the Scaler object\n",
    "    scaler = preprocessing.StandardScaler()\n",
    "\n",
    "    #Fit your data on the scaler object\n",
    "    product_scaled = scaler.fit_transform(product_file)\n",
    "    product_scaled = pd.DataFrame(product_scaled, columns=names)\n",
    "    \n",
    "    return product_scaled"
   ]
  },
  {
   "cell_type": "markdown",
   "metadata": {},
   "source": [
    "### Function for creating more visuallty appealling and easy to read confusion matrixes."
   ]
  },
  {
   "cell_type": "code",
   "execution_count": 7,
   "metadata": {},
   "outputs": [],
   "source": [
    "# Function that is called in order to produce a nice looking visualization for a confusion matrix\n",
    "def plot_confusion_matrix(cm,\n",
    "                          target_names,\n",
    "                          title='Confusion matrix',\n",
    "                          cmap=None,\n",
    "                          normalize=True):\n",
    "   \n",
    "    import itertools\n",
    "\n",
    "    accuracy = np.trace(cm) / float(np.sum(cm))\n",
    "    misclass = 1 - accuracy\n",
    "\n",
    "    if cmap is None:\n",
    "        cmap = plt.get_cmap('Reds')\n",
    "\n",
    "    plt.figure(figsize=(8, 6))\n",
    "    plt.imshow(cm, interpolation='nearest', cmap=cmap)\n",
    "    plt.title(title)\n",
    "    plt.colorbar()\n",
    "\n",
    "    if target_names is not None:\n",
    "        tick_marks = np.arange(len(target_names))\n",
    "        plt.xticks(tick_marks, target_names, rotation=45)\n",
    "        plt.yticks(tick_marks, target_names)\n",
    "\n",
    "    if normalize:\n",
    "        cm = cm.astype('float') / cm.sum(axis=1)[:, np.newaxis]\n",
    "\n",
    "\n",
    "    thresh = cm.max() / 1.5 if normalize else cm.max() / 2\n",
    "    for i, j in itertools.product(range(cm.shape[0]), range(cm.shape[1])):\n",
    "        if normalize:\n",
    "            plt.text(j, i, \"{:0.4f}\".format(cm[i, j]),\n",
    "                     horizontalalignment=\"center\",\n",
    "                     color=\"white\" if cm[i, j] > thresh else \"black\")\n",
    "        else:\n",
    "            plt.text(j, i, \"{:,}\".format(cm[i, j]),\n",
    "                     horizontalalignment=\"center\",\n",
    "                     color=\"white\" if cm[i, j] > thresh else \"black\")\n",
    "\n",
    "\n",
    "    plt.tight_layout()\n",
    "    plt.ylabel('True label')\n",
    "    plt.xlabel('Predicted label\\naccuracy={:0.4f}; misclass={:0.4f}'.format(accuracy, misclass))\n",
    "    plt.show()"
   ]
  },
  {
   "cell_type": "markdown",
   "metadata": {},
   "source": [
    "### Data cleaning with output samples for quality control."
   ]
  },
  {
   "cell_type": "code",
   "execution_count": 8,
   "metadata": {},
   "outputs": [],
   "source": [
    "# Get cleaned April billing data\n",
    "april_clean = clean(april_billing)\n",
    "\n",
    "# Rename the variables\n",
    "april_clean = april_clean.rename(columns = {\"product_id\": \"April_product_amount\", \"Billed_amount\":\"April_Expenditure\", \"User_age\":\"April_user_age\"})"
   ]
  },
  {
   "cell_type": "code",
   "execution_count": 9,
   "metadata": {},
   "outputs": [
    {
     "data": {
      "text/html": [
       "<div>\n",
       "<style scoped>\n",
       "    .dataframe tbody tr th:only-of-type {\n",
       "        vertical-align: middle;\n",
       "    }\n",
       "\n",
       "    .dataframe tbody tr th {\n",
       "        vertical-align: top;\n",
       "    }\n",
       "\n",
       "    .dataframe thead th {\n",
       "        text-align: right;\n",
       "    }\n",
       "</style>\n",
       "<table border=\"1\" class=\"dataframe\">\n",
       "  <thead>\n",
       "    <tr style=\"text-align: right;\">\n",
       "      <th></th>\n",
       "      <th>Customer_ID</th>\n",
       "      <th>April_user_age</th>\n",
       "      <th>April_product_amount</th>\n",
       "      <th>April_Expenditure</th>\n",
       "    </tr>\n",
       "  </thead>\n",
       "  <tbody>\n",
       "    <tr>\n",
       "      <th>0</th>\n",
       "      <td>004676561936772</td>\n",
       "      <td>3.79</td>\n",
       "      <td>13</td>\n",
       "      <td>1693</td>\n",
       "    </tr>\n",
       "    <tr>\n",
       "      <th>1</th>\n",
       "      <td>00D351757638125</td>\n",
       "      <td>9.80</td>\n",
       "      <td>16</td>\n",
       "      <td>1442</td>\n",
       "    </tr>\n",
       "    <tr>\n",
       "      <th>2</th>\n",
       "      <td>00F721755330737</td>\n",
       "      <td>7.21</td>\n",
       "      <td>9</td>\n",
       "      <td>2952</td>\n",
       "    </tr>\n",
       "  </tbody>\n",
       "</table>\n",
       "</div>"
      ],
      "text/plain": [
       "       Customer_ID  April_user_age  April_product_amount  April_Expenditure\n",
       "0  004676561936772            3.79                    13               1693\n",
       "1  00D351757638125            9.80                    16               1442\n",
       "2  00F721755330737            7.21                     9               2952"
      ]
     },
     "execution_count": 9,
     "metadata": {},
     "output_type": "execute_result"
    }
   ],
   "source": [
    "april_clean.head(3)"
   ]
  },
  {
   "cell_type": "code",
   "execution_count": 10,
   "metadata": {},
   "outputs": [],
   "source": [
    "# Get cleaned May billing data\n",
    "may_clean = clean(may_billing)\n",
    "\n",
    "# Rename the variables\n",
    "may_clean = may_clean.rename(columns = {\"product_id\": \"May_product_amount\", \"Billed_amount\":\"May_Expenditure\", \"User_age\":\"May_user_age\"})"
   ]
  },
  {
   "cell_type": "code",
   "execution_count": 11,
   "metadata": {},
   "outputs": [
    {
     "data": {
      "text/html": [
       "<div>\n",
       "<style scoped>\n",
       "    .dataframe tbody tr th:only-of-type {\n",
       "        vertical-align: middle;\n",
       "    }\n",
       "\n",
       "    .dataframe tbody tr th {\n",
       "        vertical-align: top;\n",
       "    }\n",
       "\n",
       "    .dataframe thead th {\n",
       "        text-align: right;\n",
       "    }\n",
       "</style>\n",
       "<table border=\"1\" class=\"dataframe\">\n",
       "  <thead>\n",
       "    <tr style=\"text-align: right;\">\n",
       "      <th></th>\n",
       "      <th>Customer_ID</th>\n",
       "      <th>May_user_age</th>\n",
       "      <th>May_product_amount</th>\n",
       "      <th>May_Expenditure</th>\n",
       "    </tr>\n",
       "  </thead>\n",
       "  <tbody>\n",
       "    <tr>\n",
       "      <th>0</th>\n",
       "      <td>004676561936772</td>\n",
       "      <td>3.87</td>\n",
       "      <td>14</td>\n",
       "      <td>1849</td>\n",
       "    </tr>\n",
       "    <tr>\n",
       "      <th>1</th>\n",
       "      <td>00F721755330737</td>\n",
       "      <td>7.29</td>\n",
       "      <td>9</td>\n",
       "      <td>2960</td>\n",
       "    </tr>\n",
       "    <tr>\n",
       "      <th>2</th>\n",
       "      <td>00R096805398488</td>\n",
       "      <td>7.25</td>\n",
       "      <td>13</td>\n",
       "      <td>5723</td>\n",
       "    </tr>\n",
       "  </tbody>\n",
       "</table>\n",
       "</div>"
      ],
      "text/plain": [
       "       Customer_ID  May_user_age  May_product_amount  May_Expenditure\n",
       "0  004676561936772          3.87                  14             1849\n",
       "1  00F721755330737          7.29                   9             2960\n",
       "2  00R096805398488          7.25                  13             5723"
      ]
     },
     "execution_count": 11,
     "metadata": {},
     "output_type": "execute_result"
    }
   ],
   "source": [
    "may_clean.head(3)"
   ]
  },
  {
   "cell_type": "code",
   "execution_count": 12,
   "metadata": {},
   "outputs": [],
   "source": [
    "# Get cleaned June billing data\n",
    "June_clean = clean(june_billing)\n",
    "\n",
    "# Rename the variables\n",
    "June_clean = June_clean.rename(columns = {\"product_id\": \"June_product_amount\", \"Billed_amount\":\"June_Expenditure\", 'User_age': 'User_Age'})\n",
    "June_clean = June_clean[['Customer_ID','June_Expenditure', 'June_product_amount','User_Age']]"
   ]
  },
  {
   "cell_type": "code",
   "execution_count": 13,
   "metadata": {},
   "outputs": [
    {
     "data": {
      "text/html": [
       "<div>\n",
       "<style scoped>\n",
       "    .dataframe tbody tr th:only-of-type {\n",
       "        vertical-align: middle;\n",
       "    }\n",
       "\n",
       "    .dataframe tbody tr th {\n",
       "        vertical-align: top;\n",
       "    }\n",
       "\n",
       "    .dataframe thead th {\n",
       "        text-align: right;\n",
       "    }\n",
       "</style>\n",
       "<table border=\"1\" class=\"dataframe\">\n",
       "  <thead>\n",
       "    <tr style=\"text-align: right;\">\n",
       "      <th></th>\n",
       "      <th>Customer_ID</th>\n",
       "      <th>June_Expenditure</th>\n",
       "      <th>June_product_amount</th>\n",
       "      <th>User_Age</th>\n",
       "    </tr>\n",
       "  </thead>\n",
       "  <tbody>\n",
       "    <tr>\n",
       "      <th>0</th>\n",
       "      <td>004676561936772</td>\n",
       "      <td>1619</td>\n",
       "      <td>14</td>\n",
       "      <td>3.96</td>\n",
       "    </tr>\n",
       "    <tr>\n",
       "      <th>1</th>\n",
       "      <td>00F721755330737</td>\n",
       "      <td>2872</td>\n",
       "      <td>9</td>\n",
       "      <td>7.38</td>\n",
       "    </tr>\n",
       "    <tr>\n",
       "      <th>2</th>\n",
       "      <td>00R096805398488</td>\n",
       "      <td>5462</td>\n",
       "      <td>13</td>\n",
       "      <td>7.34</td>\n",
       "    </tr>\n",
       "  </tbody>\n",
       "</table>\n",
       "</div>"
      ],
      "text/plain": [
       "       Customer_ID  June_Expenditure  June_product_amount  User_Age\n",
       "0  004676561936772              1619                   14      3.96\n",
       "1  00F721755330737              2872                    9      7.38\n",
       "2  00R096805398488              5462                   13      7.34"
      ]
     },
     "execution_count": 13,
     "metadata": {},
     "output_type": "execute_result"
    }
   ],
   "source": [
    "June_clean.head(3)"
   ]
  },
  {
   "cell_type": "code",
   "execution_count": 14,
   "metadata": {},
   "outputs": [],
   "source": [
    "# Combining all available data for clustering.\n",
    "product_data = april_billing.append(pd.DataFrame(data = may_billing), ignore_index=True)\n",
    "product_data = product_data.append(pd.DataFrame(data = june_billing), ignore_index=True)"
   ]
  },
  {
   "cell_type": "code",
   "execution_count": 15,
   "metadata": {},
   "outputs": [],
   "source": [
    "# Group product data\n",
    "product_data = product_data.groupby(['Customer_ID', 'product_id']).sum().reset_index()"
   ]
  },
  {
   "cell_type": "markdown",
   "metadata": {},
   "source": [
    "## Clustering"
   ]
  },
  {
   "cell_type": "code",
   "execution_count": 16,
   "metadata": {},
   "outputs": [],
   "source": [
    "# Get product distribution matrix\n",
    "product_matrix = product(product_data)"
   ]
  },
  {
   "cell_type": "code",
   "execution_count": 17,
   "metadata": {},
   "outputs": [],
   "source": [
    "# Scale the product data.\n",
    "product_scaled = scale_product(product_matrix)"
   ]
  },
  {
   "cell_type": "markdown",
   "metadata": {},
   "source": [
    "### Determining the optimal cluster number using the elbow method."
   ]
  },
  {
   "cell_type": "code",
   "execution_count": 18,
   "metadata": {},
   "outputs": [
    {
     "data": {
      "image/png": "[encoded data removed]",
      "text/plain": [
       "<Figure size 432x288 with 1 Axes>"
      ]
     },
     "metadata": {
      "needs_background": "light"
     },
     "output_type": "display_data"
    }
   ],
   "source": [
    "#Find the appropriate number of clusters\n",
    "wcss = []\n",
    "for i in range(1, 11):\n",
    "    kmeans = KMeans(n_clusters = i, init = 'k-means++', random_state = 42)\n",
    "    kmeans.fit(product_matrix)\n",
    "    wcss.append(kmeans.inertia_)\n",
    "plt.plot(range(1, 11), wcss)\n",
    "plt.title('The Elbow Method')\n",
    "plt.xlabel('Number of clusters')\n",
    "plt.ylabel('WCSS')\n",
    "plt.show()"
   ]
  },
  {
   "cell_type": "markdown",
   "metadata": {},
   "source": [
    "Optimal cluster was determined to be 5 clusters. K-means++ was used in order to determine the best initial centriod that would account for any outlier values."
   ]
  },
  {
   "cell_type": "code",
   "execution_count": 19,
   "metadata": {},
   "outputs": [],
   "source": [
    "#Fitting K-Means to the dataset\n",
    "kmeans = KMeans(n_clusters = 5, init = 'k-means++',max_iter=300, n_init=10, random_state = 42)\n",
    "y_kmeans = kmeans.fit_predict(product_matrix)"
   ]
  },
  {
   "cell_type": "code",
   "execution_count": 20,
   "metadata": {},
   "outputs": [],
   "source": [
    "# Cluster numbering starting with 1 instead of 0\n",
    "y_kmeans1=y_kmeans\n",
    "y_kmeans1=y_kmeans+1\n",
    "\n",
    "# New Dataframe called cluster\n",
    "cluster = pd.DataFrame(y_kmeans1)\n",
    "\n",
    "#nAdding cluster to the Product data set\n",
    "product_matrix['cluster'] = cluster.iloc[:,0].values\n",
    "\n",
    "# Mean of clusters\n",
    "kmeans_mean_cluster = pd.DataFrame(round(product_matrix.groupby('cluster').mean(),4)).transpose()"
   ]
  },
  {
   "cell_type": "markdown",
   "metadata": {},
   "source": [
    "### Snapshot of clustering segmentation."
   ]
  },
  {
   "cell_type": "code",
   "execution_count": 21,
   "metadata": {},
   "outputs": [
    {
     "data": {
      "text/html": [
       "<div>\n",
       "<style scoped>\n",
       "    .dataframe tbody tr th:only-of-type {\n",
       "        vertical-align: middle;\n",
       "    }\n",
       "\n",
       "    .dataframe tbody tr th {\n",
       "        vertical-align: top;\n",
       "    }\n",
       "\n",
       "    .dataframe thead th {\n",
       "        text-align: right;\n",
       "    }\n",
       "</style>\n",
       "<table border=\"1\" class=\"dataframe\">\n",
       "  <thead>\n",
       "    <tr style=\"text-align: right;\">\n",
       "      <th>cluster</th>\n",
       "      <th>1</th>\n",
       "      <th>2</th>\n",
       "      <th>3</th>\n",
       "      <th>4</th>\n",
       "      <th>5</th>\n",
       "    </tr>\n",
       "    <tr>\n",
       "      <th>product_id</th>\n",
       "      <th></th>\n",
       "      <th></th>\n",
       "      <th></th>\n",
       "      <th></th>\n",
       "      <th></th>\n",
       "    </tr>\n",
       "  </thead>\n",
       "  <tbody>\n",
       "    <tr>\n",
       "      <th>8.0</th>\n",
       "      <td>2.0492</td>\n",
       "      <td>1.7403</td>\n",
       "      <td>5.0085</td>\n",
       "      <td>4.6999</td>\n",
       "      <td>78.4103</td>\n",
       "    </tr>\n",
       "    <tr>\n",
       "      <th>10.0</th>\n",
       "      <td>29.6237</td>\n",
       "      <td>90.0822</td>\n",
       "      <td>14.6789</td>\n",
       "      <td>55.7236</td>\n",
       "      <td>10.6344</td>\n",
       "    </tr>\n",
       "    <tr>\n",
       "      <th>548.0</th>\n",
       "      <td>0.8714</td>\n",
       "      <td>0.2938</td>\n",
       "      <td>11.9920</td>\n",
       "      <td>1.4392</td>\n",
       "      <td>1.7217</td>\n",
       "    </tr>\n",
       "    <tr>\n",
       "      <th>938.0</th>\n",
       "      <td>56.6451</td>\n",
       "      <td>2.0525</td>\n",
       "      <td>5.6748</td>\n",
       "      <td>21.1888</td>\n",
       "      <td>2.5908</td>\n",
       "    </tr>\n",
       "    <tr>\n",
       "      <th>2809.0</th>\n",
       "      <td>2.4487</td>\n",
       "      <td>0.3980</td>\n",
       "      <td>3.0121</td>\n",
       "      <td>3.0922</td>\n",
       "      <td>0.2134</td>\n",
       "    </tr>\n",
       "    <tr>\n",
       "      <th>3991.0</th>\n",
       "      <td>2.0036</td>\n",
       "      <td>1.5374</td>\n",
       "      <td>2.2748</td>\n",
       "      <td>2.1280</td>\n",
       "      <td>1.1719</td>\n",
       "    </tr>\n",
       "    <tr>\n",
       "      <th>14503.0</th>\n",
       "      <td>0.7701</td>\n",
       "      <td>0.1850</td>\n",
       "      <td>3.2622</td>\n",
       "      <td>1.4654</td>\n",
       "      <td>0.1766</td>\n",
       "    </tr>\n",
       "  </tbody>\n",
       "</table>\n",
       "</div>"
      ],
      "text/plain": [
       "cluster           1        2        3        4        5\n",
       "product_id                                             \n",
       "8.0          2.0492   1.7403   5.0085   4.6999  78.4103\n",
       "10.0        29.6237  90.0822  14.6789  55.7236  10.6344\n",
       "548.0        0.8714   0.2938  11.9920   1.4392   1.7217\n",
       "938.0       56.6451   2.0525   5.6748  21.1888   2.5908\n",
       "2809.0       2.4487   0.3980   3.0121   3.0922   0.2134\n",
       "3991.0       2.0036   1.5374   2.2748   2.1280   1.1719\n",
       "14503.0      0.7701   0.1850   3.2622   1.4654   0.1766"
      ]
     },
     "execution_count": 21,
     "metadata": {},
     "output_type": "execute_result"
    }
   ],
   "source": [
    "# Lood at a snapshot of the clusters\n",
    "kmeans_mean_cluster[kmeans_mean_cluster[4] >= 1]"
   ]
  },
  {
   "cell_type": "code",
   "execution_count": 22,
   "metadata": {},
   "outputs": [
    {
     "data": {
      "text/plain": [
       "(array([0, 1, 2, 3, 4]), <a list of 5 Text xticklabel objects>)"
      ]
     },
     "execution_count": 22,
     "metadata": {},
     "output_type": "execute_result"
    },
    {
     "data": {
      "image/png": "[encoded data removed]",
      "text/plain": [
       "<Figure size 432x288 with 1 Axes>"
      ]
     },
     "metadata": {
      "needs_background": "light"
     },
     "output_type": "display_data"
    }
   ],
   "source": [
    "# Plot clusters.\n",
    "pd.value_counts(product_matrix['cluster']).plot.bar(color='#cb181d')\n",
    "plt.xticks(fontsize=10, rotation=360)"
   ]
  },
  {
   "cell_type": "markdown",
   "metadata": {},
   "source": [
    "Examining the size and characteristics of each of the clusters we can see that they are not sized evenly and that cluster 5 is very small and is the majority of cluster 5's expenditures are focused on product 8. Cluster 2 is the largest cluster and consists of customers who allocate the majority of thier expenditures to product 10. Clusters 3 & 4 are both more balanced in terms of expenditures while cluster 1 is mostly consisted of product 10 and 938."
   ]
  },
  {
   "cell_type": "markdown",
   "metadata": {},
   "source": [
    "### Merge billing data and prepare adoption data for modelling."
   ]
  },
  {
   "cell_type": "code",
   "execution_count": 23,
   "metadata": {},
   "outputs": [],
   "source": [
    "# Prepare clusters for joining\n",
    "cluster_data = product_matrix[['cluster']].reset_index()"
   ]
  },
  {
   "cell_type": "code",
   "execution_count": 24,
   "metadata": {},
   "outputs": [],
   "source": [
    "# Merge dataset\n",
    "April_May = pd.merge(april_clean, may_clean, on = 'Customer_ID', how = 'inner')\n",
    "April_May = pd.merge(April_May, cluster_data, on = 'Customer_ID', how = 'inner')\n",
    "April_May = April_May.fillna(0)\n",
    "April_May['User_Age'] = April_May[\"May_user_age\"]\n",
    "April_May.loc[April_May['User_Age'] == 0,\"User_Age\"] = April_May[\"April_user_age\"]\n",
    "April_May = April_May.drop(['April_user_age', 'May_user_age'], axis = 1)\n",
    "April_May = April_May.rename(columns = {\"cluster\": \"Product_Cluster\"})\n",
    "\n",
    "June = pd.merge(June_clean, cluster_data, on = 'Customer_ID', how = 'inner')"
   ]
  },
  {
   "cell_type": "code",
   "execution_count": 25,
   "metadata": {},
   "outputs": [
    {
     "data": {
      "text/html": [
       "<div>\n",
       "<style scoped>\n",
       "    .dataframe tbody tr th:only-of-type {\n",
       "        vertical-align: middle;\n",
       "    }\n",
       "\n",
       "    .dataframe tbody tr th {\n",
       "        vertical-align: top;\n",
       "    }\n",
       "\n",
       "    .dataframe thead th {\n",
       "        text-align: right;\n",
       "    }\n",
       "</style>\n",
       "<table border=\"1\" class=\"dataframe\">\n",
       "  <thead>\n",
       "    <tr style=\"text-align: right;\">\n",
       "      <th></th>\n",
       "      <th>Customer_ID</th>\n",
       "      <th>April_product_amount</th>\n",
       "      <th>April_Expenditure</th>\n",
       "      <th>May_product_amount</th>\n",
       "      <th>May_Expenditure</th>\n",
       "      <th>Product_Cluster</th>\n",
       "      <th>User_Age</th>\n",
       "    </tr>\n",
       "  </thead>\n",
       "  <tbody>\n",
       "    <tr>\n",
       "      <th>0</th>\n",
       "      <td>004676561936772</td>\n",
       "      <td>13</td>\n",
       "      <td>1693</td>\n",
       "      <td>14</td>\n",
       "      <td>1849</td>\n",
       "      <td>2</td>\n",
       "      <td>3.87</td>\n",
       "    </tr>\n",
       "    <tr>\n",
       "      <th>1</th>\n",
       "      <td>00F721755330737</td>\n",
       "      <td>9</td>\n",
       "      <td>2952</td>\n",
       "      <td>9</td>\n",
       "      <td>2960</td>\n",
       "      <td>4</td>\n",
       "      <td>7.29</td>\n",
       "    </tr>\n",
       "    <tr>\n",
       "      <th>2</th>\n",
       "      <td>00R096805398488</td>\n",
       "      <td>13</td>\n",
       "      <td>5420</td>\n",
       "      <td>13</td>\n",
       "      <td>5723</td>\n",
       "      <td>1</td>\n",
       "      <td>7.25</td>\n",
       "    </tr>\n",
       "  </tbody>\n",
       "</table>\n",
       "</div>"
      ],
      "text/plain": [
       "       Customer_ID  April_product_amount  April_Expenditure  \\\n",
       "0  004676561936772                    13               1693   \n",
       "1  00F721755330737                     9               2952   \n",
       "2  00R096805398488                    13               5420   \n",
       "\n",
       "   May_product_amount  May_Expenditure  Product_Cluster  User_Age  \n",
       "0                  14             1849                2      3.87  \n",
       "1                   9             2960                4      7.29  \n",
       "2                  13             5723                1      7.25  "
      ]
     },
     "execution_count": 25,
     "metadata": {},
     "output_type": "execute_result"
    }
   ],
   "source": [
    "April_May.head(3)"
   ]
  },
  {
   "cell_type": "code",
   "execution_count": 26,
   "metadata": {},
   "outputs": [],
   "source": [
    "# Replace categorical variables with nominal variables\n",
    "\n",
    "## Customer_size: small:1, mid:2, large:3\n",
    "adoption['Customer_size'] = adoption['Customer_size'].replace(\"Small\", 1)\n",
    "adoption['Customer_size'] = adoption['Customer_size'].replace(\"Mid\", 2)\n",
    "adoption['Customer_size'] = adoption['Customer_size'].replace(\"Large\", 3)\n",
    "\n",
    "## Geo_Code: AMER:6, EMEA:5, APAC:4, JAPN:3, CHNA:2, GLBL:1, GEO-UNCLAIMED:0\n",
    "adoption['Geo_Code'] = adoption['Geo_Code'].replace(\"AMER\", 6)\n",
    "adoption['Geo_Code'] = adoption['Geo_Code'].replace(\"EMEA\", 5)\n",
    "adoption['Geo_Code'] = adoption['Geo_Code'].replace(\"APAC\", 4)\n",
    "adoption['Geo_Code'] = adoption['Geo_Code'].replace(\"JAPN\", 3)\n",
    "adoption['Geo_Code'] = adoption['Geo_Code'].replace(\"CHNA\", 2)\n",
    "adoption['Geo_Code'] = adoption['Geo_Code'].replace(\"GLBL\", 1)\n",
    "adoption['Geo_Code'] = adoption['Geo_Code'].replace(\"GEO-UNCLAIMED\", 0)\n",
    "\n",
    "## Visulize: Yes:1, No:0\n",
    "adoption['Visualize'] = adoption['Visualize'].replace(\"Yes\", 1)\n",
    "adoption['Visualize'] = adoption['Visualize'].replace(\"No\", 0)\n",
    "\n",
    "## Alert: Yes:1, No:0\n",
    "adoption['Alert'] = adoption['Alert'].replace(\"Yes\", 1)\n",
    "adoption['Alert'] = adoption['Alert'].replace(\"No\", 0)\n",
    "\n",
    "## Report: Yes:1, No:0\n",
    "adoption['Report'] = adoption['Report'].replace(\"Yes\", 1)\n",
    "adoption['Report'] = adoption['Report'].replace(\"No\", 0)\n",
    "\n",
    "## Month: Month Only\n",
    "new = adoption['Month'].str.split(\"-\", n = 1, expand = True) \n",
    "adoption['Month'] = new[0]\n",
    "adoption['Month'] = adoption['Month'].replace(\"April\", 4)\n",
    "adoption['Month'] = adoption['Month'].replace(\"May\", 5)\n",
    "adoption['Month'] = adoption['Month'].replace(\"June\", 6)\n"
   ]
  },
  {
   "cell_type": "code",
   "execution_count": 27,
   "metadata": {},
   "outputs": [
    {
     "data": {
      "text/html": [
       "<div>\n",
       "<style scoped>\n",
       "    .dataframe tbody tr th:only-of-type {\n",
       "        vertical-align: middle;\n",
       "    }\n",
       "\n",
       "    .dataframe tbody tr th {\n",
       "        vertical-align: top;\n",
       "    }\n",
       "\n",
       "    .dataframe thead th {\n",
       "        text-align: right;\n",
       "    }\n",
       "</style>\n",
       "<table border=\"1\" class=\"dataframe\">\n",
       "  <thead>\n",
       "    <tr style=\"text-align: right;\">\n",
       "      <th></th>\n",
       "      <th>Month</th>\n",
       "      <th>Customer_ID</th>\n",
       "      <th>Customer_size</th>\n",
       "      <th>Geo_Code</th>\n",
       "      <th>Visualize</th>\n",
       "      <th>Alert</th>\n",
       "      <th>Report</th>\n",
       "    </tr>\n",
       "  </thead>\n",
       "  <tbody>\n",
       "    <tr>\n",
       "      <th>0</th>\n",
       "      <td>4</td>\n",
       "      <td>cds000000201002</td>\n",
       "      <td>1</td>\n",
       "      <td>6</td>\n",
       "      <td>1</td>\n",
       "      <td>0</td>\n",
       "      <td>0</td>\n",
       "    </tr>\n",
       "    <tr>\n",
       "      <th>1</th>\n",
       "      <td>5</td>\n",
       "      <td>cds000000201002</td>\n",
       "      <td>1</td>\n",
       "      <td>6</td>\n",
       "      <td>1</td>\n",
       "      <td>0</td>\n",
       "      <td>0</td>\n",
       "    </tr>\n",
       "    <tr>\n",
       "      <th>2</th>\n",
       "      <td>6</td>\n",
       "      <td>cds000000201002</td>\n",
       "      <td>1</td>\n",
       "      <td>6</td>\n",
       "      <td>1</td>\n",
       "      <td>0</td>\n",
       "      <td>0</td>\n",
       "    </tr>\n",
       "  </tbody>\n",
       "</table>\n",
       "</div>"
      ],
      "text/plain": [
       "   Month      Customer_ID  Customer_size  Geo_Code  Visualize  Alert  Report\n",
       "0      4  cds000000201002              1         6          1      0       0\n",
       "1      5  cds000000201002              1         6          1      0       0\n",
       "2      6  cds000000201002              1         6          1      0       0"
      ]
     },
     "execution_count": 27,
     "metadata": {},
     "output_type": "execute_result"
    }
   ],
   "source": [
    "adoption.head(3)"
   ]
  },
  {
   "cell_type": "markdown",
   "metadata": {},
   "source": [
    "### Putting together all of the data for the training and test sets."
   ]
  },
  {
   "cell_type": "code",
   "execution_count": 28,
   "metadata": {},
   "outputs": [],
   "source": [
    "# Filter for April and May adoption data\n",
    "April_May_adoption = adoption[adoption['Month'] != 6]\n",
    "\n",
    "# Create the training set.\n",
    "full = pd.merge(April_May_adoption, April_May, on = 'Customer_ID', how = 'inner')\n",
    "\n",
    "April = full[full['Month'] == 4]\n",
    "April = April.drop(['May_Expenditure', 'May_product_amount'], axis = 1)\n",
    "April = April.rename(columns = {\"April_Expenditure\": \"Expenditure\", 'April_product_amount': 'Product_Amount'})\n",
    "\n",
    "May = full[full['Month'] == 4]\n",
    "May = May.drop(['April_Expenditure', 'April_product_amount'], axis = 1)\n",
    "May = May.rename(columns = {\"May_Expenditure\": \"Expenditure\", 'May_product_amount': 'Product_Amount'})\n",
    "\n",
    "train = April.append(pd.DataFrame(data = May), ignore_index=True)\n",
    "train = train.drop(['Customer_size'], axis = 1)\n",
    "\n",
    "\n",
    "# Filter for June adoption data.\n",
    "June_adoption = adoption[adoption['Month'] == 6]\n",
    "\n",
    "# Create the validation set.\n",
    "test = pd.merge(June_adoption, June, on = 'Customer_ID', how = 'inner')\n",
    "test = test.drop(['Customer_size'], axis = 1)\n",
    "test = test.rename(columns = {\"June_Expenditure\": \"Expenditure\", \"cluster\": \"Product_Cluster\", 'June_product_amount': 'Product_Amount'})"
   ]
  },
  {
   "cell_type": "code",
   "execution_count": 29,
   "metadata": {},
   "outputs": [],
   "source": [
    "# Remove Outliers\n",
    "Expenditure_thresold = train['Expenditure'].quantile(0.98)\n",
    "train = train[(train['Expenditure'] <= Expenditure_thresold)]\n",
    "\n",
    "Expenditure_thresold = test['Expenditure'].quantile(0.98)\n",
    "test = test[(test['Expenditure'] <= Expenditure_thresold)]"
   ]
  },
  {
   "cell_type": "markdown",
   "metadata": {},
   "source": [
    "### Looking at clusters adoption of Visualize"
   ]
  },
  {
   "cell_type": "code",
   "execution_count": 30,
   "metadata": {},
   "outputs": [
    {
     "data": {
      "text/plain": [
       "(array([0, 1, 2, 3, 4]), <a list of 5 Text xticklabel objects>)"
      ]
     },
     "execution_count": 30,
     "metadata": {},
     "output_type": "execute_result"
    },
    {
     "data": {
      "image/png": "[encoded data removed]",
      "text/plain": [
       "<Figure size 432x288 with 1 Axes>"
      ]
     },
     "metadata": {
      "needs_background": "light"
     },
     "output_type": "display_data"
    }
   ],
   "source": [
    "# Plot clusters.\n",
    "testv = test[test['Visualize'] == 1]\n",
    "pd.value_counts(testv['Product_Cluster']).plot.bar(color='#cb181d')\n",
    "plt.xticks(fontsize=10, rotation=360)"
   ]
  },
  {
   "cell_type": "markdown",
   "metadata": {},
   "source": [
    "When we look at the number of customers who use visualize based on thier segmented clusters we can see that cluster 4 has a larger percentage of Visualize adoption."
   ]
  },
  {
   "cell_type": "markdown",
   "metadata": {},
   "source": [
    "### Examining the imbalance in the data"
   ]
  },
  {
   "cell_type": "code",
   "execution_count": 31,
   "metadata": {},
   "outputs": [
    {
     "data": {
      "text/plain": [
       "0    63067\n",
       "1    21365\n",
       "Name: Visualize, dtype: int64"
      ]
     },
     "execution_count": 31,
     "metadata": {},
     "output_type": "execute_result"
    },
    {
     "data": {
      "image/png": "[encoded data removed]",
      "text/plain": [
       "<Figure size 432x288 with 1 Axes>"
      ]
     },
     "metadata": {
      "needs_background": "light"
     },
     "output_type": "display_data"
    }
   ],
   "source": [
    "# Plot imbalance in data.\n",
    "pd.value_counts(train['Visualize']).plot.bar(color='#cb181d')\n",
    "plt.title('Visualization adoption histogram')\n",
    "plt.xlabel('Class')\n",
    "plt.ylabel('Frequency')\n",
    "train['Visualize'].value_counts()"
   ]
  },
  {
   "cell_type": "code",
   "execution_count": 32,
   "metadata": {},
   "outputs": [
    {
     "data": {
      "text/plain": [
       "0    79460\n",
       "1     4972\n",
       "Name: Alert, dtype: int64"
      ]
     },
     "execution_count": 32,
     "metadata": {},
     "output_type": "execute_result"
    },
    {
     "data": {
      "image/png": "[encoded data removed]",
      "text/plain": [
       "<Figure size 432x288 with 1 Axes>"
      ]
     },
     "metadata": {
      "needs_background": "light"
     },
     "output_type": "display_data"
    }
   ],
   "source": [
    "# Plot imbalance in data.\n",
    "pd.value_counts(train['Alert']).plot.bar(color='#cb181d')\n",
    "plt.title('Alert adoption histogram')\n",
    "plt.xlabel('Class')\n",
    "plt.ylabel('Frequency')\n",
    "train['Alert'].value_counts()"
   ]
  },
  {
   "cell_type": "code",
   "execution_count": 33,
   "metadata": {},
   "outputs": [
    {
     "data": {
      "text/plain": [
       "0    79897\n",
       "1     4535\n",
       "Name: Report, dtype: int64"
      ]
     },
     "execution_count": 33,
     "metadata": {},
     "output_type": "execute_result"
    },
    {
     "data": {
      "image/png": "[encoded data removed]",
      "text/plain": [
       "<Figure size 432x288 with 1 Axes>"
      ]
     },
     "metadata": {
      "needs_background": "light"
     },
     "output_type": "display_data"
    }
   ],
   "source": [
    "# Plot imbalance in data.\n",
    "pd.value_counts(train['Report']).plot.bar(color='#cb181d')\n",
    "plt.title('Report adoption histogram')\n",
    "plt.xlabel('Class')\n",
    "plt.ylabel('Frequency')\n",
    "train['Report'].value_counts()"
   ]
  },
  {
   "cell_type": "markdown",
   "metadata": {},
   "source": [
    "Based on the graphs we can see that the data is extremely imbalanced, particularly with Report and Alert. This is goiing to create some modelling challenges that we will have to address. The imbalanced data will make it very difficult to predict the usage of Report and Alert."
   ]
  },
  {
   "cell_type": "markdown",
   "metadata": {},
   "source": [
    "## Modelling"
   ]
  },
  {
   "cell_type": "markdown",
   "metadata": {},
   "source": [
    "### Preparing the data"
   ]
  },
  {
   "cell_type": "code",
   "execution_count": 34,
   "metadata": {},
   "outputs": [],
   "source": [
    "# Create the test and training sets for all three cost management variables.\n",
    "y_train = train[['Visualize', 'Alert', 'Report']]\n",
    "y_trainV = train[['Visualize']]\n",
    "y_trainV = y_trainV.values.ravel()\n",
    "y_trainA = train[['Alert']]\n",
    "y_trainR = train[['Report']]\n",
    "\n",
    "y_test = test[['Visualize', 'Alert', 'Report']]\n",
    "y_testV = test[['Visualize']]\n",
    "y_testV = y_testV.values.ravel()\n",
    "y_testA = test[['Alert']]\n",
    "y_testR = test[['Report']]\n",
    "\n",
    "x_train = train[['User_Age', 'Geo_Code', 'Month', 'Expenditure', 'Product_Amount', 'Product_Cluster']]\n",
    "x_test = test[['User_Age', 'Geo_Code', 'Month', 'Expenditure', 'Product_Amount','Product_Cluster']]"
   ]
  },
  {
   "cell_type": "markdown",
   "metadata": {},
   "source": [
    "### Synthetic Minority Oversampling Technique (SMOTE) in order to address the imbalance in the data."
   ]
  },
  {
   "cell_type": "code",
   "execution_count": 35,
   "metadata": {},
   "outputs": [],
   "source": [
    "# SMOTE for Visualize target.\n",
    "# Balances sample for more accurate model training.\n",
    "sm = SMOTE(random_state=2)\n",
    "x_train_res, y_trainV_res = sm.fit_sample(x_train, y_trainV.ravel())"
   ]
  },
  {
   "cell_type": "markdown",
   "metadata": {},
   "source": [
    "Important- *Keep a keen eye out for overfitting, which can be common when using any over/under sampling technique.*"
   ]
  },
  {
   "cell_type": "markdown",
   "metadata": {},
   "source": [
    "### Decision Tree Model - Visualize"
   ]
  },
  {
   "cell_type": "code",
   "execution_count": 36,
   "metadata": {},
   "outputs": [],
   "source": [
    "# Decision Tree Model.\n",
    "clf = tree.DecisionTreeClassifier(class_weight=None, criterion='entropy', max_depth=40, max_features=None, max_leaf_nodes=None, min_samples_leaf=5, min_samples_split=2, min_weight_fraction_leaf=0.0, presort=False, random_state=100, splitter='best')\n",
    "clf = clf.fit(x_train, y_trainV)\n",
    "\n",
    "# Generate prediction.\n",
    "y_pred_dt = clf.predict(x_test)\n",
    "\n",
    "# Export as dot file for decision tree visualization.\n",
    "dot_data = tree.export_graphviz(clf, out_file='Dtree_AWS.dot', feature_names = x_test.columns, max_depth =3)"
   ]
  },
  {
   "cell_type": "code",
   "execution_count": 37,
   "metadata": {},
   "outputs": [
    {
     "name": "stdout",
     "output_type": "stream",
     "text": [
      "Classification Report\n",
      "              precision    recall  f1-score   support\n",
      "\n",
      "           0       0.79      0.81      0.80     35066\n",
      "           1       0.34      0.31      0.32     11125\n",
      "\n",
      "    accuracy                           0.69     46191\n",
      "   macro avg       0.57      0.56      0.56     46191\n",
      "weighted avg       0.68      0.69      0.69     46191\n",
      "\n"
     ]
    }
   ],
   "source": [
    "print(\"Classification Report\")\n",
    "print(classification_report(y_testV, y_pred_dt))"
   ]
  },
  {
   "cell_type": "code",
   "execution_count": 38,
   "metadata": {},
   "outputs": [
    {
     "data": {
      "image/png": "[encoded data removed]",
      "text/plain": [
       "<Figure size 576x432 with 2 Axes>"
      ]
     },
     "metadata": {
      "needs_background": "light"
     },
     "output_type": "display_data"
    }
   ],
   "source": [
    "plot_confusion_matrix(cm           = confusion_matrix(y_testV, y_pred_dt), \n",
    "                      normalize    = False,\n",
    "                      target_names = ['No Visualize', 'Visualize'],\n",
    "                      title        = \"Confusion Matrix\")"
   ]
  },
  {
   "cell_type": "markdown",
   "metadata": {},
   "source": [
    "The result of a basis decision tree is actually quite good and it gives us the dot file output so that we can create a diagram of the tree. When we look at this diagram we can make inferences about the most important features in the model. What we observe is that product number is an extremely important feature in our models, particularly when product count is high customers are more likely to use the AWS Cost Management tools."
   ]
  },
  {
   "cell_type": "markdown",
   "metadata": {},
   "source": [
    "### Neural Network Binary Choice Model - Visualize"
   ]
  },
  {
   "cell_type": "code",
   "execution_count": 39,
   "metadata": {},
   "outputs": [],
   "source": [
    "# Scaler for NN.\n",
    "scaler = StandardScaler()  \n",
    "scaler.fit(x_train_res)\n",
    "\n",
    "x_train_s = scaler.transform(x_train_res)  \n",
    "x_test_s = scaler.transform(x_test)"
   ]
  },
  {
   "cell_type": "code",
   "execution_count": 40,
   "metadata": {},
   "outputs": [
    {
     "name": "stdout",
     "output_type": "stream",
     "text": [
      "Classification Report\n",
      "              precision    recall  f1-score   support\n",
      "\n",
      "           0       0.82      0.75      0.78     35066\n",
      "           1       0.38      0.49      0.43     11125\n",
      "\n",
      "    accuracy                           0.68     46191\n",
      "   macro avg       0.60      0.62      0.60     46191\n",
      "weighted avg       0.71      0.68      0.70     46191\n",
      "\n"
     ]
    },
    {
     "name": "stderr",
     "output_type": "stream",
     "text": [
      "/Applications/anaconda3/lib/python3.7/site-packages/sklearn/neural_network/multilayer_perceptron.py:566: ConvergenceWarning: Stochastic Optimizer: Maximum iterations (200) reached and the optimization hasn't converged yet.\n",
      "  % self.max_iter, ConvergenceWarning)\n"
     ]
    }
   ],
   "source": [
    "# Predict whether customer will buy Visulization\n",
    "## Multi-layer perceptron classification - one hidden layer of 5 neurons\n",
    "mlp = MLPClassifier(hidden_layer_sizes=(5), random_state=100, activation= \"logistic\")  \n",
    "mlp.fit(x_train_s, y_trainV_res)  \n",
    "\n",
    "\n",
    "## predict test set \n",
    "y_pred_nn = mlp.predict(x_test_s)  \n",
    "\n",
    "## Analysis of prediction\n",
    "print(\"Classification Report\")\n",
    "print(classification_report(y_testV, y_pred_nn))"
   ]
  },
  {
   "cell_type": "code",
   "execution_count": 41,
   "metadata": {},
   "outputs": [
    {
     "data": {
      "image/png": "[encoded data removed]",
      "text/plain": [
       "<Figure size 576x432 with 2 Axes>"
      ]
     },
     "metadata": {
      "needs_background": "light"
     },
     "output_type": "display_data"
    }
   ],
   "source": [
    "plot_confusion_matrix(cm           = confusion_matrix(y_testV, y_pred_nn), \n",
    "                      normalize    = False,\n",
    "                      target_names = ['No Visualize', 'Visualize'],\n",
    "                      title        = \"Confusion Matrix\")"
   ]
  },
  {
   "cell_type": "markdown",
   "metadata": {},
   "source": [
    "The neural network model preformed very vell and when properly tuned was very comparable to the random forest model. The NN model was more flexible than the random forest though, it could be tuned to yield an extremely high recall but at the cost of accuracy and precision. The challenge was to find a good balance."
   ]
  },
  {
   "cell_type": "markdown",
   "metadata": {},
   "source": [
    "### Random Forest Classification - Visualize"
   ]
  },
  {
   "cell_type": "code",
   "execution_count": 42,
   "metadata": {},
   "outputs": [
    {
     "name": "stdout",
     "output_type": "stream",
     "text": [
      "Classification Report\n",
      "              precision    recall  f1-score   support\n",
      "\n",
      "           0       0.83      0.68      0.74     35066\n",
      "           1       0.35      0.56      0.43     11125\n",
      "\n",
      "    accuracy                           0.65     46191\n",
      "   macro avg       0.59      0.62      0.59     46191\n",
      "weighted avg       0.71      0.65      0.67     46191\n",
      "\n"
     ]
    }
   ],
   "source": [
    "# Predict whether customer will use Visualize\n",
    "## Random Forest Classification\n",
    "crf = RandomForestClassifier(n_estimators=20, max_depth=2, random_state=100)\n",
    "crf.fit(x_train_res, y_trainV_res) \n",
    "\n",
    "## predict test set \n",
    "y_pred_rf = crf.predict(x_test)  \n",
    "\n",
    "## Analysis of prediction\n",
    "print(\"Classification Report\")\n",
    "print(classification_report(y_testV, y_pred_rf))"
   ]
  },
  {
   "cell_type": "code",
   "execution_count": 43,
   "metadata": {},
   "outputs": [
    {
     "data": {
      "image/png": "[encoded data removed]",
      "text/plain": [
       "<Figure size 576x432 with 2 Axes>"
      ]
     },
     "metadata": {
      "needs_background": "light"
     },
     "output_type": "display_data"
    }
   ],
   "source": [
    "plot_confusion_matrix(cm           = confusion_matrix(y_testA, y_pred_rf), \n",
    "                      normalize    = False,\n",
    "                      target_names = ['No Visualize', 'Visualize'],\n",
    "                      title        = \"Confusion Matrix\")"
   ]
  },
  {
   "cell_type": "markdown",
   "metadata": {},
   "source": [
    "The random forest model performed the best out of all of the model iterations that we tried. It provided good and balanced results across all of the performance measures. It is because of this that we decided to impliment a random forest model for all of our prediction models across the AWS Cost Management platform."
   ]
  },
  {
   "cell_type": "markdown",
   "metadata": {},
   "source": [
    "### Random Forest Classification - Report"
   ]
  },
  {
   "cell_type": "code",
   "execution_count": 44,
   "metadata": {},
   "outputs": [
    {
     "name": "stdout",
     "output_type": "stream",
     "text": [
      "Classification Report\n",
      "              precision    recall  f1-score   support\n",
      "\n",
      "           0       0.96      0.80      0.87     43555\n",
      "           1       0.12      0.43      0.18      2636\n",
      "\n",
      "    accuracy                           0.78     46191\n",
      "   macro avg       0.54      0.62      0.53     46191\n",
      "weighted avg       0.91      0.78      0.83     46191\n",
      "\n"
     ]
    }
   ],
   "source": [
    "# SMOTE for Report target.\n",
    "sm = SMOTE(random_state=2)\n",
    "x_train_res, y_trainR_res = sm.fit_sample(x_train, y_trainR.values.ravel())\n",
    "\n",
    "# Predict whether customer will use Report.\n",
    "## Random Forest Classification\n",
    "crf = RandomForestClassifier(n_estimators=10, max_depth=5, random_state=100)\n",
    "crf.fit(x_train_res, y_trainR_res) \n",
    "\n",
    "## predict test set \n",
    "y_pred_rf2 = crf.predict(x_test)  \n",
    "\n",
    "## Analysis of prediction\n",
    "print(\"Classification Report\")\n",
    "print(classification_report(y_testR, y_pred_rf2))"
   ]
  },
  {
   "cell_type": "code",
   "execution_count": 45,
   "metadata": {},
   "outputs": [
    {
     "data": {
      "image/png": "[encoded data removed]",
      "text/plain": [
       "<Figure size 576x432 with 2 Axes>"
      ]
     },
     "metadata": {
      "needs_background": "light"
     },
     "output_type": "display_data"
    }
   ],
   "source": [
    "plot_confusion_matrix(cm           = confusion_matrix(y_testR, y_pred_rf2), \n",
    "                      normalize    = False,\n",
    "                      target_names = ['No Report', 'Report'],\n",
    "                      title        = \"Confusion Matrix\")"
   ]
  },
  {
   "cell_type": "markdown",
   "metadata": {},
   "source": [
    "Unlike with Visualize the random forest model did not yield balanced results for Report; this is likely due to the dramatic imbalance in the data. While the accuracy number was very good and the recall was also quite good, the precision was terrible which made the [Yes] f1-score very low."
   ]
  },
  {
   "cell_type": "markdown",
   "metadata": {},
   "source": [
    "### Random Forest Classification - Alert"
   ]
  },
  {
   "cell_type": "code",
   "execution_count": 46,
   "metadata": {},
   "outputs": [
    {
     "name": "stdout",
     "output_type": "stream",
     "text": [
      "Classification Report\n",
      "              precision    recall  f1-score   support\n",
      "\n",
      "           0       0.95      0.78      0.86     43288\n",
      "           1       0.11      0.41      0.17      2903\n",
      "\n",
      "    accuracy                           0.76     46191\n",
      "   macro avg       0.53      0.59      0.52     46191\n",
      "weighted avg       0.90      0.76      0.81     46191\n",
      "\n"
     ]
    }
   ],
   "source": [
    "# SMOTE for Alert target.\n",
    "sm = SMOTE(random_state=2)\n",
    "x_train_res, y_trainA_res = sm.fit_sample(x_train, y_trainA.values.ravel())\n",
    "\n",
    "# Predict Customer whether to buy Visualization\n",
    "## Random Forest Classification\n",
    "crf = RandomForestClassifier(n_estimators=20, max_depth=4, random_state=100)\n",
    "crf.fit(x_train_res, y_trainA_res) \n",
    "\n",
    "## predict test set \n",
    "y_pred_rf3 = crf.predict(x_test)  \n",
    "\n",
    "## Analysis of prediction\n",
    "print(\"Classification Report\")\n",
    "print(classification_report(y_testA, y_pred_rf3))"
   ]
  },
  {
   "cell_type": "code",
   "execution_count": 47,
   "metadata": {},
   "outputs": [
    {
     "data": {
      "image/png": "[encoded data removed]",
      "text/plain": [
       "<Figure size 576x432 with 2 Axes>"
      ]
     },
     "metadata": {
      "needs_background": "light"
     },
     "output_type": "display_data"
    }
   ],
   "source": [
    "plot_confusion_matrix(cm           = confusion_matrix(y_testA, y_pred_rf3), \n",
    "                      normalize    = False,\n",
    "                      target_names = ['No Alert', 'Alert'],\n",
    "                      title        = \"Confusion Matrix\")"
   ]
  },
  {
   "cell_type": "markdown",
   "metadata": {},
   "source": [
    "Just as with Report, Alert has very good accuracy and recall numbers but extremely low precision."
   ]
  },
  {
   "cell_type": "markdown",
   "metadata": {},
   "source": [
    "## Take-Away\n",
    "\n",
    "The customer segmentation that was achieved by K-Means clustering showed that customers in cluster 4, those with a more diversified product mix, are more likely to use cost management and visualize in particular. This makes sound business sense as customers who use more products will have more challenges managing costs than those that use just one or two different products.\n",
    "\n",
    "The models that we created do a fairly good job of predicting whether a customer will use an AWS Cost Management tool. However, due to the imbalance in the data, the models used to predict Alert and Report are not very sound models. It would be easy to say that because they have high accuracy and recall that they are good models but because of the data imbalance they are also not very precise at all. With that being said the Visualize model does a very good job at predicting if a customer will use AWS Visualize or not. We would be comfortable using this model in production. Additionally, when we examine the output of the decision tree for visualize we can see that the number of products a customer used is the most important feature in our models. This makes sense because customers that use a lot of products will more than likely have challenges managing the cost of those products; challenges that AWS Cost Management can help with. Based on both of these model insights we can recommend that AWS focus thier marketing on customers who are likely to use visualize. These customers are likely from the market segment in cluster 4 and use more than 17 AWS products. By focusing on customers who use an even distribution of a lot of AWS products we are confident that AWS can grow the adoption rate of their Cost Management tools."
   ]
  },
  {
   "cell_type": "code",
   "execution_count": null,
   "metadata": {},
   "outputs": [],
   "source": []
  }
 ],
 "metadata": {
  "kernelspec": {
   "display_name": "Python 3",
   "language": "python",
   "name": "python3"
  },
  "language_info": {
   "codemirror_mode": {
    "name": "ipython",
    "version": 3
   },
   "file_extension": ".py",
   "mimetype": "text/x-python",
   "name": "python",
   "nbconvert_exporter": "python",
   "pygments_lexer": "ipython3",
   "version": "3.7.3"
  }
 },
 "nbformat": 4,
 "nbformat_minor": 2
}
